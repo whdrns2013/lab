{
 "cells": [
  {
   "cell_type": "code",
   "execution_count": null,
   "metadata": {},
   "outputs": [],
   "source": [
    "#################################\n",
    "#             주의사항            #\n",
    "#################################\n",
    "\n",
    "# 1. 작업이 끝나면 반드시 연결을 닫아주세요. (conn.close())\n",
    "# 2. 한글 입력이 가능하도록 설정을 변경했습니다. (RDS - 파라미터그룹 - utf8mb4)\n",
    "# 3. 새로 생성되는 테이블의 CHAR SET 은 UTF-8로 설정해주세요."
   ]
  },
  {
   "cell_type": "code",
   "execution_count": 53,
   "metadata": {},
   "outputs": [],
   "source": [
    "import pymysql\n",
    "import pandas as pd"
   ]
  },
  {
   "cell_type": "code",
   "execution_count": 39,
   "metadata": {},
   "outputs": [],
   "source": [
    "# 연결 RDS 정보\n",
    "\n",
    "host = \"team06-antifragile-db.cxuncqkdvk3h.us-east-1.rds.amazonaws.com\"\n",
    "port = 3306\n",
    "username = \"admin\"\n",
    "database = \"antifragile\"\n",
    "password = \"antifragile1234\""
   ]
  },
  {
   "cell_type": "code",
   "execution_count": 87,
   "metadata": {},
   "outputs": [],
   "source": [
    "# pymysql을 통한 로컬 - AWS RDS 연결\n",
    "\n",
    "conn = pymysql.connect(host = host, user = username, port = port, database = database, password = password)\n",
    "cursor = conn.cursor()"
   ]
  },
  {
   "cell_type": "code",
   "execution_count": 73,
   "metadata": {},
   "outputs": [
    {
     "name": "stdout",
     "output_type": "stream",
     "text": [
      "('cam',)\n",
      "('images',)\n",
      "('log',)\n",
      "('object',)\n",
      "('user',)\n"
     ]
    }
   ],
   "source": [
    "# 명령문 실행\n",
    "\n",
    "## 명령문 작성\n",
    "sql = '''\n",
    "show tables;\n",
    "'''\n",
    "\n",
    "## 명령문 실행\n",
    "cursor.execute(sql)\n",
    "\n",
    "## 실행 결과 출력\n",
    "response = cursor.fetchall()\n",
    "for data in response:\n",
    "    print(data)"
   ]
  },
  {
   "cell_type": "code",
   "execution_count": 89,
   "metadata": {},
   "outputs": [],
   "source": [
    "# sql 연결 해제\n",
    "\n",
    "conn.close()"
   ]
  }
 ],
 "metadata": {
  "kernelspec": {
   "display_name": "sesac_final",
   "language": "python",
   "name": "python3"
  },
  "language_info": {
   "codemirror_mode": {
    "name": "ipython",
    "version": 3
   },
   "file_extension": ".py",
   "mimetype": "text/x-python",
   "name": "python",
   "nbconvert_exporter": "python",
   "pygments_lexer": "ipython3",
   "version": "3.9.0"
  },
  "orig_nbformat": 4,
  "vscode": {
   "interpreter": {
    "hash": "bb8359be6a560857f8eb0aaecce6bb12c0bb00fea3cf8b6849d87a5096a4a846"
   }
  }
 },
 "nbformat": 4,
 "nbformat_minor": 2
}
