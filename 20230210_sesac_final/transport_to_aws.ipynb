{
 "cells": [
  {
   "cell_type": "code",
   "execution_count": 2,
   "metadata": {},
   "outputs": [
    {
     "ename": "OperationalError",
     "evalue": "(2003, \"Can't connect to MySQL server on '54.164.15.159' (timed out)\")",
     "output_type": "error",
     "traceback": [
      "\u001b[0;31m---------------------------------------------------------------------------\u001b[0m",
      "\u001b[0;31mtimeout\u001b[0m                                   Traceback (most recent call last)",
      "File \u001b[0;32m~/miniforge3/envs/sesac_final/lib/python3.9/site-packages/pymysql/connections.py:613\u001b[0m, in \u001b[0;36mConnection.connect\u001b[0;34m(self, sock)\u001b[0m\n\u001b[1;32m    612\u001b[0m \u001b[39mtry\u001b[39;00m:\n\u001b[0;32m--> 613\u001b[0m     sock \u001b[39m=\u001b[39m socket\u001b[39m.\u001b[39;49mcreate_connection(\n\u001b[1;32m    614\u001b[0m         (\u001b[39mself\u001b[39;49m\u001b[39m.\u001b[39;49mhost, \u001b[39mself\u001b[39;49m\u001b[39m.\u001b[39;49mport), \u001b[39mself\u001b[39;49m\u001b[39m.\u001b[39;49mconnect_timeout, \u001b[39m*\u001b[39;49m\u001b[39m*\u001b[39;49mkwargs\n\u001b[1;32m    615\u001b[0m     )\n\u001b[1;32m    616\u001b[0m     \u001b[39mbreak\u001b[39;00m\n",
      "File \u001b[0;32m~/miniforge3/envs/sesac_final/lib/python3.9/socket.py:843\u001b[0m, in \u001b[0;36mcreate_connection\u001b[0;34m(address, timeout, source_address)\u001b[0m\n\u001b[1;32m    842\u001b[0m \u001b[39mtry\u001b[39;00m:\n\u001b[0;32m--> 843\u001b[0m     \u001b[39mraise\u001b[39;00m err\n\u001b[1;32m    844\u001b[0m \u001b[39mfinally\u001b[39;00m:\n\u001b[1;32m    845\u001b[0m     \u001b[39m# Break explicitly a reference cycle\u001b[39;00m\n",
      "File \u001b[0;32m~/miniforge3/envs/sesac_final/lib/python3.9/socket.py:831\u001b[0m, in \u001b[0;36mcreate_connection\u001b[0;34m(address, timeout, source_address)\u001b[0m\n\u001b[1;32m    830\u001b[0m     sock\u001b[39m.\u001b[39mbind(source_address)\n\u001b[0;32m--> 831\u001b[0m sock\u001b[39m.\u001b[39;49mconnect(sa)\n\u001b[1;32m    832\u001b[0m \u001b[39m# Break explicitly a reference cycle\u001b[39;00m\n",
      "\u001b[0;31mtimeout\u001b[0m: timed out",
      "\nDuring handling of the above exception, another exception occurred:\n",
      "\u001b[0;31mOperationalError\u001b[0m                          Traceback (most recent call last)",
      "Cell \u001b[0;32mIn[2], line 3\u001b[0m\n\u001b[1;32m      1\u001b[0m \u001b[39mimport\u001b[39;00m \u001b[39mpymysql\u001b[39;00m \u001b[39mas\u001b[39;00m \u001b[39mm\u001b[39;00m\n\u001b[0;32m----> 3\u001b[0m con \u001b[39m=\u001b[39m m\u001b[39m.\u001b[39;49mconnect(host \u001b[39m=\u001b[39;49m \u001b[39m'\u001b[39;49m\u001b[39m54.164.15.159\u001b[39;49m\u001b[39m'\u001b[39;49m, db \u001b[39m=\u001b[39;49m \u001b[39m'\u001b[39;49m\u001b[39mteam06-antifragile-db\u001b[39;49m\u001b[39m'\u001b[39;49m,\n\u001b[1;32m      4\u001b[0m                 user \u001b[39m=\u001b[39;49m \u001b[39m'\u001b[39;49m\u001b[39madmin\u001b[39;49m\u001b[39m'\u001b[39;49m, password \u001b[39m=\u001b[39;49m \u001b[39m'\u001b[39;49m\u001b[39mantifragile1234\u001b[39;49m\u001b[39m'\u001b[39;49m, charset \u001b[39m=\u001b[39;49m \u001b[39m'\u001b[39;49m\u001b[39mutf8\u001b[39;49m\u001b[39m'\u001b[39;49m)\n",
      "File \u001b[0;32m~/miniforge3/envs/sesac_final/lib/python3.9/site-packages/pymysql/connections.py:353\u001b[0m, in \u001b[0;36mConnection.__init__\u001b[0;34m(self, user, password, host, database, unix_socket, port, charset, sql_mode, read_default_file, conv, use_unicode, client_flag, cursorclass, init_command, connect_timeout, read_default_group, autocommit, local_infile, max_allowed_packet, defer_connect, auth_plugin_map, read_timeout, write_timeout, bind_address, binary_prefix, program_name, server_public_key, ssl, ssl_ca, ssl_cert, ssl_disabled, ssl_key, ssl_verify_cert, ssl_verify_identity, compress, named_pipe, passwd, db)\u001b[0m\n\u001b[1;32m    351\u001b[0m     \u001b[39mself\u001b[39m\u001b[39m.\u001b[39m_sock \u001b[39m=\u001b[39m \u001b[39mNone\u001b[39;00m\n\u001b[1;32m    352\u001b[0m \u001b[39melse\u001b[39;00m:\n\u001b[0;32m--> 353\u001b[0m     \u001b[39mself\u001b[39;49m\u001b[39m.\u001b[39;49mconnect()\n",
      "File \u001b[0;32m~/miniforge3/envs/sesac_final/lib/python3.9/site-packages/pymysql/connections.py:664\u001b[0m, in \u001b[0;36mConnection.connect\u001b[0;34m(self, sock)\u001b[0m\n\u001b[1;32m    662\u001b[0m     \u001b[39mif\u001b[39;00m DEBUG:\n\u001b[1;32m    663\u001b[0m         \u001b[39mprint\u001b[39m(exc\u001b[39m.\u001b[39mtraceback)\n\u001b[0;32m--> 664\u001b[0m     \u001b[39mraise\u001b[39;00m exc\n\u001b[1;32m    666\u001b[0m \u001b[39m# If e is neither DatabaseError or IOError, It's a bug.\u001b[39;00m\n\u001b[1;32m    667\u001b[0m \u001b[39m# But raising AssertionError hides original error.\u001b[39;00m\n\u001b[1;32m    668\u001b[0m \u001b[39m# So just reraise it.\u001b[39;00m\n\u001b[1;32m    669\u001b[0m \u001b[39mraise\u001b[39;00m\n",
      "\u001b[0;31mOperationalError\u001b[0m: (2003, \"Can't connect to MySQL server on '54.164.15.159' (timed out)\")"
     ]
    }
   ],
   "source": [
    "import pymysql as m\n",
    "\n",
    "con = m.connect(host = '54.164.15.159', database = 'team06-antifragile-db',\n",
    "                user = 'admin', password = 'antifragile1234', charset = 'utf8')"
   ]
  },
  {
   "cell_type": "code",
   "execution_count": null,
   "metadata": {},
   "outputs": [],
   "source": [
    "cur = con.cursor()"
   ]
  }
 ],
 "metadata": {
  "kernelspec": {
   "display_name": "sesac_final",
   "language": "python",
   "name": "python3"
  },
  "language_info": {
   "codemirror_mode": {
    "name": "ipython",
    "version": 3
   },
   "file_extension": ".py",
   "mimetype": "text/x-python",
   "name": "python",
   "nbconvert_exporter": "python",
   "pygments_lexer": "ipython3",
   "version": "3.9.0"
  },
  "orig_nbformat": 4,
  "vscode": {
   "interpreter": {
    "hash": "bb8359be6a560857f8eb0aaecce6bb12c0bb00fea3cf8b6849d87a5096a4a846"
   }
  }
 },
 "nbformat": 4,
 "nbformat_minor": 2
}
