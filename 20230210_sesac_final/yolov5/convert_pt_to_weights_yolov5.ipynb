{
 "cells": [
  {
   "cell_type": "code",
   "execution_count": 13,
   "metadata": {},
   "outputs": [],
   "source": [
    "path_to_pt_file = '/Users/jongya/Desktop/Workspace/lab/20230210_sesac_final/yolov5/yolov5/best.pt'\n",
    "path_to_weights_file = '/Users/jongya/Desktop/Workspace/lab/20230210_sesac_final/yolov5/yolov5/best.weights'"
   ]
  },
  {
   "cell_type": "code",
   "execution_count": 7,
   "metadata": {},
   "outputs": [
    {
     "name": "stdout",
     "output_type": "stream",
     "text": [
      "fatal: 대상 경로가('yolov5') 이미 있고 빈 디렉터리가 아닙니다.\n"
     ]
    }
   ],
   "source": [
    "!git clone https://github.com/ultralytics/yolov5.git"
   ]
  },
  {
   "cell_type": "code",
   "execution_count": 8,
   "metadata": {},
   "outputs": [],
   "source": [
    "!cd ./yolov5"
   ]
  },
  {
   "cell_type": "code",
   "execution_count": 9,
   "metadata": {},
   "outputs": [
    {
     "name": "stdout",
     "output_type": "stream",
     "text": [
      "Collecting gitpython\n",
      "  Using cached GitPython-3.1.31-py3-none-any.whl (184 kB)\n",
      "Requirement already satisfied: ipython in /Users/jongya/miniforge3/envs/sesac_final/lib/python3.9/site-packages (from -r requirements.txt (line 6)) (8.11.0)\n",
      "Requirement already satisfied: matplotlib>=3.2.2 in /Users/jongya/miniforge3/envs/sesac_final/lib/python3.9/site-packages (from -r requirements.txt (line 7)) (3.7.1)\n",
      "Requirement already satisfied: numpy>=1.18.5 in /Users/jongya/miniforge3/envs/sesac_final/lib/python3.9/site-packages (from -r requirements.txt (line 8)) (1.24.2)\n",
      "Requirement already satisfied: opencv-python>=4.1.1 in /Users/jongya/miniforge3/envs/sesac_final/lib/python3.9/site-packages (from -r requirements.txt (line 9)) (4.7.0.72)\n",
      "Requirement already satisfied: Pillow>=7.1.2 in /Users/jongya/miniforge3/envs/sesac_final/lib/python3.9/site-packages (from -r requirements.txt (line 10)) (9.4.0)\n",
      "Requirement already satisfied: psutil in /Users/jongya/miniforge3/envs/sesac_final/lib/python3.9/site-packages (from -r requirements.txt (line 11)) (5.9.4)\n",
      "Requirement already satisfied: PyYAML>=5.3.1 in /Users/jongya/miniforge3/envs/sesac_final/lib/python3.9/site-packages (from -r requirements.txt (line 12)) (6.0)\n",
      "Collecting requests>=2.23.0\n",
      "  Using cached requests-2.28.2-py3-none-any.whl (62 kB)\n",
      "Requirement already satisfied: scipy>=1.4.1 in /Users/jongya/miniforge3/envs/sesac_final/lib/python3.9/site-packages (from -r requirements.txt (line 14)) (1.9.3)\n",
      "Collecting thop>=0.1.1\n",
      "  Using cached thop-0.1.1.post2209072238-py3-none-any.whl (15 kB)\n",
      "Requirement already satisfied: torch>=1.7.0 in /Users/jongya/miniforge3/envs/sesac_final/lib/python3.9/site-packages (from -r requirements.txt (line 16)) (1.13.1)\n",
      "Requirement already satisfied: torchvision>=0.8.1 in /Users/jongya/miniforge3/envs/sesac_final/lib/python3.9/site-packages (from -r requirements.txt (line 17)) (0.9.0a0)\n",
      "Requirement already satisfied: tqdm>=4.64.0 in /Users/jongya/miniforge3/envs/sesac_final/lib/python3.9/site-packages (from -r requirements.txt (line 18)) (4.65.0)\n",
      "Collecting tensorboard>=2.4.1\n",
      "  Downloading tensorboard-2.12.0-py3-none-any.whl (5.6 MB)\n",
      "\u001b[2K     \u001b[90m━━━━━━━━━━━━━━━━━━━━━━━━━━━━━━━━━━━━━━━━\u001b[0m \u001b[32m5.6/5.6 MB\u001b[0m \u001b[31m26.0 MB/s\u001b[0m eta \u001b[36m0:00:00\u001b[0ma \u001b[36m0:00:01\u001b[0m\n",
      "\u001b[?25hRequirement already satisfied: pandas>=1.1.4 in /Users/jongya/miniforge3/envs/sesac_final/lib/python3.9/site-packages (from -r requirements.txt (line 27)) (1.5.3)\n",
      "Requirement already satisfied: seaborn>=0.11.0 in /Users/jongya/miniforge3/envs/sesac_final/lib/python3.9/site-packages (from -r requirements.txt (line 28)) (0.12.2)\n",
      "Requirement already satisfied: setuptools>=65.5.1 in /Users/jongya/miniforge3/envs/sesac_final/lib/python3.9/site-packages (from -r requirements.txt (line 42)) (67.5.1)\n",
      "Requirement already satisfied: wheel>=0.38.0 in /Users/jongya/miniforge3/envs/sesac_final/lib/python3.9/site-packages (from -r requirements.txt (line 43)) (0.38.4)\n",
      "Collecting gitdb<5,>=4.0.1\n",
      "  Downloading gitdb-4.0.10-py3-none-any.whl (62 kB)\n",
      "\u001b[2K     \u001b[90m━━━━━━━━━━━━━━━━━━━━━━━━━━━━━━━━━━━━━━━━\u001b[0m \u001b[32m62.7/62.7 kB\u001b[0m \u001b[31m11.5 MB/s\u001b[0m eta \u001b[36m0:00:00\u001b[0m\n",
      "\u001b[?25hRequirement already satisfied: stack-data in /Users/jongya/miniforge3/envs/sesac_final/lib/python3.9/site-packages (from ipython->-r requirements.txt (line 6)) (0.6.2)\n",
      "Requirement already satisfied: decorator in /Users/jongya/miniforge3/envs/sesac_final/lib/python3.9/site-packages (from ipython->-r requirements.txt (line 6)) (5.1.1)\n",
      "Requirement already satisfied: appnope in /Users/jongya/miniforge3/envs/sesac_final/lib/python3.9/site-packages (from ipython->-r requirements.txt (line 6)) (0.1.3)\n",
      "Requirement already satisfied: prompt-toolkit!=3.0.37,<3.1.0,>=3.0.30 in /Users/jongya/miniforge3/envs/sesac_final/lib/python3.9/site-packages (from ipython->-r requirements.txt (line 6)) (3.0.38)\n",
      "Requirement already satisfied: pygments>=2.4.0 in /Users/jongya/miniforge3/envs/sesac_final/lib/python3.9/site-packages (from ipython->-r requirements.txt (line 6)) (2.14.0)\n",
      "Requirement already satisfied: jedi>=0.16 in /Users/jongya/miniforge3/envs/sesac_final/lib/python3.9/site-packages (from ipython->-r requirements.txt (line 6)) (0.18.2)\n",
      "Requirement already satisfied: pickleshare in /Users/jongya/miniforge3/envs/sesac_final/lib/python3.9/site-packages (from ipython->-r requirements.txt (line 6)) (0.7.5)\n",
      "Requirement already satisfied: matplotlib-inline in /Users/jongya/miniforge3/envs/sesac_final/lib/python3.9/site-packages (from ipython->-r requirements.txt (line 6)) (0.1.6)\n",
      "Requirement already satisfied: traitlets>=5 in /Users/jongya/miniforge3/envs/sesac_final/lib/python3.9/site-packages (from ipython->-r requirements.txt (line 6)) (5.9.0)\n",
      "Requirement already satisfied: pexpect>4.3 in /Users/jongya/miniforge3/envs/sesac_final/lib/python3.9/site-packages (from ipython->-r requirements.txt (line 6)) (4.8.0)\n",
      "Requirement already satisfied: backcall in /Users/jongya/miniforge3/envs/sesac_final/lib/python3.9/site-packages (from ipython->-r requirements.txt (line 6)) (0.2.0)\n",
      "Requirement already satisfied: importlib-resources>=3.2.0 in /Users/jongya/miniforge3/envs/sesac_final/lib/python3.9/site-packages (from matplotlib>=3.2.2->-r requirements.txt (line 7)) (5.12.0)\n",
      "Requirement already satisfied: kiwisolver>=1.0.1 in /Users/jongya/miniforge3/envs/sesac_final/lib/python3.9/site-packages (from matplotlib>=3.2.2->-r requirements.txt (line 7)) (1.4.4)\n",
      "Requirement already satisfied: pyparsing>=2.3.1 in /Users/jongya/miniforge3/envs/sesac_final/lib/python3.9/site-packages (from matplotlib>=3.2.2->-r requirements.txt (line 7)) (3.0.9)\n",
      "Requirement already satisfied: contourpy>=1.0.1 in /Users/jongya/miniforge3/envs/sesac_final/lib/python3.9/site-packages (from matplotlib>=3.2.2->-r requirements.txt (line 7)) (1.0.7)\n",
      "Requirement already satisfied: cycler>=0.10 in /Users/jongya/miniforge3/envs/sesac_final/lib/python3.9/site-packages (from matplotlib>=3.2.2->-r requirements.txt (line 7)) (0.11.0)\n",
      "Requirement already satisfied: python-dateutil>=2.7 in /Users/jongya/miniforge3/envs/sesac_final/lib/python3.9/site-packages (from matplotlib>=3.2.2->-r requirements.txt (line 7)) (2.8.2)\n",
      "Requirement already satisfied: packaging>=20.0 in /Users/jongya/miniforge3/envs/sesac_final/lib/python3.9/site-packages (from matplotlib>=3.2.2->-r requirements.txt (line 7)) (23.0)\n",
      "Requirement already satisfied: fonttools>=4.22.0 in /Users/jongya/miniforge3/envs/sesac_final/lib/python3.9/site-packages (from matplotlib>=3.2.2->-r requirements.txt (line 7)) (4.39.0)\n",
      "Requirement already satisfied: urllib3<1.27,>=1.21.1 in /Users/jongya/miniforge3/envs/sesac_final/lib/python3.9/site-packages (from requests>=2.23.0->-r requirements.txt (line 13)) (1.26.14)\n",
      "Requirement already satisfied: certifi>=2017.4.17 in /Users/jongya/miniforge3/envs/sesac_final/lib/python3.9/site-packages (from requests>=2.23.0->-r requirements.txt (line 13)) (2022.12.7)\n",
      "Collecting idna<4,>=2.5\n",
      "  Using cached idna-3.4-py3-none-any.whl (61 kB)\n",
      "Collecting charset-normalizer<4,>=2\n",
      "  Downloading charset_normalizer-3.1.0-cp39-cp39-macosx_11_0_arm64.whl (122 kB)\n",
      "\u001b[2K     \u001b[90m━━━━━━━━━━━━━━━━━━━━━━━━━━━━━━━━━━━━━━\u001b[0m \u001b[32m123.0/123.0 kB\u001b[0m \u001b[31m17.1 MB/s\u001b[0m eta \u001b[36m0:00:00\u001b[0m\n",
      "\u001b[?25hRequirement already satisfied: typing-extensions in /Users/jongya/miniforge3/envs/sesac_final/lib/python3.9/site-packages (from torch>=1.7.0->-r requirements.txt (line 16)) (4.4.0)\n",
      "Collecting google-auth<3,>=1.6.3\n",
      "  Downloading google_auth-2.16.2-py2.py3-none-any.whl (177 kB)\n",
      "\u001b[2K     \u001b[90m━━━━━━━━━━━━━━━━━━━━━━━━━━━━━━━━━━━━━━\u001b[0m \u001b[32m177.2/177.2 kB\u001b[0m \u001b[31m18.4 MB/s\u001b[0m eta \u001b[36m0:00:00\u001b[0m\n",
      "\u001b[?25hCollecting markdown>=2.6.8\n",
      "  Downloading Markdown-3.4.1-py3-none-any.whl (93 kB)\n",
      "\u001b[2K     \u001b[90m━━━━━━━━━━━━━━━━━━━━━━━━━━━━━━━━━━━━━━━━\u001b[0m \u001b[32m93.3/93.3 kB\u001b[0m \u001b[31m12.3 MB/s\u001b[0m eta \u001b[36m0:00:00\u001b[0m\n",
      "\u001b[?25hCollecting tensorboard-plugin-wit>=1.6.0\n",
      "  Downloading tensorboard_plugin_wit-1.8.1-py3-none-any.whl (781 kB)\n",
      "\u001b[2K     \u001b[90m━━━━━━━━━━━━━━━━━━━━━━━━━━━━━━━━━━━━━━\u001b[0m \u001b[32m781.3/781.3 kB\u001b[0m \u001b[31m26.3 MB/s\u001b[0m eta \u001b[36m0:00:00\u001b[0m\n",
      "\u001b[?25hCollecting protobuf>=3.19.6\n",
      "  Downloading protobuf-4.22.1-cp37-abi3-macosx_10_9_universal2.whl (397 kB)\n",
      "\u001b[2K     \u001b[90m━━━━━━━━━━━━━━━━━━━━━━━━━━━━━━━━━━━━━━\u001b[0m \u001b[32m397.2/397.2 kB\u001b[0m \u001b[31m26.5 MB/s\u001b[0m eta \u001b[36m0:00:00\u001b[0m\n",
      "\u001b[?25hCollecting werkzeug>=1.0.1\n",
      "  Downloading Werkzeug-2.2.3-py3-none-any.whl (233 kB)\n",
      "\u001b[2K     \u001b[90m━━━━━━━━━━━━━━━━━━━━━━━━━━━━━━━━━━━━━━\u001b[0m \u001b[32m233.6/233.6 kB\u001b[0m \u001b[31m21.2 MB/s\u001b[0m eta \u001b[36m0:00:00\u001b[0m\n",
      "\u001b[?25hCollecting absl-py>=0.4\n",
      "  Downloading absl_py-1.4.0-py3-none-any.whl (126 kB)\n",
      "\u001b[2K     \u001b[90m━━━━━━━━━━━━━━━━━━━━━━━━━━━━━━━━━━━━━━\u001b[0m \u001b[32m126.5/126.5 kB\u001b[0m \u001b[31m15.8 MB/s\u001b[0m eta \u001b[36m0:00:00\u001b[0m\n",
      "\u001b[?25hCollecting grpcio>=1.48.2\n",
      "  Downloading grpcio-1.51.3-cp39-cp39-macosx_10_10_universal2.whl (8.2 MB)\n",
      "\u001b[2K     \u001b[90m━━━━━━━━━━━━━━━━━━━━━━━━━━━━━━━━━━━━━━━━\u001b[0m \u001b[32m8.2/8.2 MB\u001b[0m \u001b[31m27.0 MB/s\u001b[0m eta \u001b[36m0:00:00\u001b[0ma \u001b[36m0:00:01\u001b[0m\n",
      "\u001b[?25hCollecting tensorboard-data-server<0.8.0,>=0.7.0\n",
      "  Downloading tensorboard_data_server-0.7.0-py3-none-any.whl (2.4 kB)\n",
      "Collecting google-auth-oauthlib<0.5,>=0.4.1\n",
      "  Downloading google_auth_oauthlib-0.4.6-py2.py3-none-any.whl (18 kB)\n",
      "Requirement already satisfied: pytz>=2020.1 in /Users/jongya/miniforge3/envs/sesac_final/lib/python3.9/site-packages (from pandas>=1.1.4->-r requirements.txt (line 27)) (2022.7.1)\n",
      "Collecting smmap<6,>=3.0.1\n",
      "  Downloading smmap-5.0.0-py3-none-any.whl (24 kB)\n",
      "Requirement already satisfied: six>=1.9.0 in /Users/jongya/miniforge3/envs/sesac_final/lib/python3.9/site-packages (from google-auth<3,>=1.6.3->tensorboard>=2.4.1->-r requirements.txt (line 22)) (1.16.0)\n",
      "Collecting cachetools<6.0,>=2.0.0\n",
      "  Downloading cachetools-5.3.0-py3-none-any.whl (9.3 kB)\n",
      "Collecting rsa<5,>=3.1.4\n",
      "  Downloading rsa-4.9-py3-none-any.whl (34 kB)\n",
      "Collecting pyasn1-modules>=0.2.1\n",
      "  Downloading pyasn1_modules-0.2.8-py2.py3-none-any.whl (155 kB)\n",
      "\u001b[2K     \u001b[90m━━━━━━━━━━━━━━━━━━━━━━━━━━━━━━━━━━━━━━\u001b[0m \u001b[32m155.3/155.3 kB\u001b[0m \u001b[31m20.0 MB/s\u001b[0m eta \u001b[36m0:00:00\u001b[0m\n",
      "\u001b[?25hCollecting requests-oauthlib>=0.7.0\n",
      "  Downloading requests_oauthlib-1.3.1-py2.py3-none-any.whl (23 kB)\n",
      "Requirement already satisfied: zipp>=3.1.0 in /Users/jongya/miniforge3/envs/sesac_final/lib/python3.9/site-packages (from importlib-resources>=3.2.0->matplotlib>=3.2.2->-r requirements.txt (line 7)) (3.15.0)\n",
      "Requirement already satisfied: parso<0.9.0,>=0.8.0 in /Users/jongya/miniforge3/envs/sesac_final/lib/python3.9/site-packages (from jedi>=0.16->ipython->-r requirements.txt (line 6)) (0.8.3)\n",
      "Requirement already satisfied: importlib-metadata>=4.4 in /Users/jongya/miniforge3/envs/sesac_final/lib/python3.9/site-packages (from markdown>=2.6.8->tensorboard>=2.4.1->-r requirements.txt (line 22)) (6.0.0)\n",
      "Requirement already satisfied: ptyprocess>=0.5 in /Users/jongya/miniforge3/envs/sesac_final/lib/python3.9/site-packages (from pexpect>4.3->ipython->-r requirements.txt (line 6)) (0.7.0)\n",
      "Requirement already satisfied: wcwidth in /Users/jongya/miniforge3/envs/sesac_final/lib/python3.9/site-packages (from prompt-toolkit!=3.0.37,<3.1.0,>=3.0.30->ipython->-r requirements.txt (line 6)) (0.2.6)\n",
      "Collecting MarkupSafe>=2.1.1\n",
      "  Downloading MarkupSafe-2.1.2-cp39-cp39-macosx_10_9_universal2.whl (17 kB)\n",
      "Requirement already satisfied: asttokens>=2.1.0 in /Users/jongya/miniforge3/envs/sesac_final/lib/python3.9/site-packages (from stack-data->ipython->-r requirements.txt (line 6)) (2.2.1)\n",
      "Requirement already satisfied: executing>=1.2.0 in /Users/jongya/miniforge3/envs/sesac_final/lib/python3.9/site-packages (from stack-data->ipython->-r requirements.txt (line 6)) (1.2.0)\n",
      "Requirement already satisfied: pure-eval in /Users/jongya/miniforge3/envs/sesac_final/lib/python3.9/site-packages (from stack-data->ipython->-r requirements.txt (line 6)) (0.2.2)\n",
      "Collecting pyasn1<0.5.0,>=0.4.6\n",
      "  Downloading pyasn1-0.4.8-py2.py3-none-any.whl (77 kB)\n",
      "\u001b[2K     \u001b[90m━━━━━━━━━━━━━━━━━━━━━━━━━━━━━━━━━━━━━━━━\u001b[0m \u001b[32m77.1/77.1 kB\u001b[0m \u001b[31m11.5 MB/s\u001b[0m eta \u001b[36m0:00:00\u001b[0m\n",
      "\u001b[?25hCollecting oauthlib>=3.0.0\n",
      "  Downloading oauthlib-3.2.2-py3-none-any.whl (151 kB)\n",
      "\u001b[2K     \u001b[90m━━━━━━━━━━━━━━━━━━━━━━━━━━━━━━━━━━━━━━\u001b[0m \u001b[32m151.7/151.7 kB\u001b[0m \u001b[31m13.5 MB/s\u001b[0m eta \u001b[36m0:00:00\u001b[0m\n",
      "\u001b[?25hInstalling collected packages: tensorboard-plugin-wit, pyasn1, tensorboard-data-server, smmap, rsa, pyasn1-modules, protobuf, oauthlib, MarkupSafe, idna, grpcio, charset-normalizer, cachetools, absl-py, werkzeug, thop, requests, markdown, google-auth, gitdb, requests-oauthlib, gitpython, google-auth-oauthlib, tensorboard\n",
      "Successfully installed MarkupSafe-2.1.2 absl-py-1.4.0 cachetools-5.3.0 charset-normalizer-3.1.0 gitdb-4.0.10 gitpython-3.1.31 google-auth-2.16.2 google-auth-oauthlib-0.4.6 grpcio-1.51.3 idna-3.4 markdown-3.4.1 oauthlib-3.2.2 protobuf-4.22.1 pyasn1-0.4.8 pyasn1-modules-0.2.8 requests-2.28.2 requests-oauthlib-1.3.1 rsa-4.9 smmap-5.0.0 tensorboard-2.12.0 tensorboard-data-server-0.7.0 tensorboard-plugin-wit-1.8.1 thop-0.1.1.post2209072238 werkzeug-2.2.3\n"
     ]
    }
   ],
   "source": [
    "!pip install -r requirements.txt"
   ]
  },
  {
   "cell_type": "code",
   "execution_count": 11,
   "metadata": {},
   "outputs": [
    {
     "name": "stdout",
     "output_type": "stream",
     "text": [
      "Collecting onnx\n",
      "  Downloading onnx-1.13.1-cp39-cp39-macosx_10_12_universal2.whl (14.1 MB)\n",
      "\u001b[2K     \u001b[90m━━━━━━━━━━━━━━━━━━━━━━━━━━━━━━━━━━━━━━━━\u001b[0m \u001b[32m14.1/14.1 MB\u001b[0m \u001b[31m24.8 MB/s\u001b[0m eta \u001b[36m0:00:00\u001b[0m00:01\u001b[0m00:01\u001b[0m\n",
      "\u001b[?25hCollecting protobuf<4,>=3.20.2\n",
      "  Downloading protobuf-3.20.3-py2.py3-none-any.whl (162 kB)\n",
      "\u001b[2K     \u001b[90m━━━━━━━━━━━━━━━━━━━━━━━━━━━━━━━━━━━━━━\u001b[0m \u001b[32m162.1/162.1 kB\u001b[0m \u001b[31m14.8 MB/s\u001b[0m eta \u001b[36m0:00:00\u001b[0m\n",
      "\u001b[?25hRequirement already satisfied: numpy>=1.16.6 in /Users/jongya/miniforge3/envs/sesac_final/lib/python3.9/site-packages (from onnx) (1.24.2)\n",
      "Requirement already satisfied: typing-extensions>=3.6.2.1 in /Users/jongya/miniforge3/envs/sesac_final/lib/python3.9/site-packages (from onnx) (4.4.0)\n",
      "Installing collected packages: protobuf, onnx\n",
      "  Attempting uninstall: protobuf\n",
      "    Found existing installation: protobuf 4.22.1\n",
      "    Uninstalling protobuf-4.22.1:\n",
      "      Successfully uninstalled protobuf-4.22.1\n",
      "Successfully installed onnx-1.13.1 protobuf-3.20.3\n",
      "Collecting onnxruntime\n",
      "  Downloading onnxruntime-1.14.1-cp39-cp39-macosx_11_0_arm64.whl (5.8 MB)\n",
      "\u001b[2K     \u001b[90m━━━━━━━━━━━━━━━━━━━━━━━━━━━━━━━━━━━━━━━━\u001b[0m \u001b[32m5.8/5.8 MB\u001b[0m \u001b[31m19.6 MB/s\u001b[0m eta \u001b[36m0:00:00\u001b[0ma \u001b[36m0:00:01\u001b[0m\n",
      "\u001b[?25hRequirement already satisfied: numpy>=1.21.6 in /Users/jongya/miniforge3/envs/sesac_final/lib/python3.9/site-packages (from onnxruntime) (1.24.2)\n",
      "Requirement already satisfied: packaging in /Users/jongya/miniforge3/envs/sesac_final/lib/python3.9/site-packages (from onnxruntime) (23.0)\n",
      "Collecting coloredlogs\n",
      "  Downloading coloredlogs-15.0.1-py2.py3-none-any.whl (46 kB)\n",
      "\u001b[2K     \u001b[90m━━━━━━━━━━━━━━━━━━━━━━━━━━━━━━━━━━━━━━━━\u001b[0m \u001b[32m46.0/46.0 kB\u001b[0m \u001b[31m4.6 MB/s\u001b[0m eta \u001b[36m0:00:00\u001b[0m\n",
      "\u001b[?25hCollecting sympy\n",
      "  Downloading sympy-1.11.1-py3-none-any.whl (6.5 MB)\n",
      "\u001b[2K     \u001b[90m━━━━━━━━━━━━━━━━━━━━━━━━━━━━━━━━━━━━━━━━\u001b[0m \u001b[32m6.5/6.5 MB\u001b[0m \u001b[31m18.6 MB/s\u001b[0m eta \u001b[36m0:00:00\u001b[0m00:01\u001b[0m00:01\u001b[0m\n",
      "\u001b[?25hCollecting flatbuffers\n",
      "  Downloading flatbuffers-23.3.3-py2.py3-none-any.whl (26 kB)\n",
      "Requirement already satisfied: protobuf in /Users/jongya/miniforge3/envs/sesac_final/lib/python3.9/site-packages (from onnxruntime) (3.20.3)\n",
      "Collecting humanfriendly>=9.1\n",
      "  Downloading humanfriendly-10.0-py2.py3-none-any.whl (86 kB)\n",
      "\u001b[2K     \u001b[90m━━━━━━━━━━━━━━━━━━━━━━━━━━━━━━━━━━━━━━━━\u001b[0m \u001b[32m86.8/86.8 kB\u001b[0m \u001b[31m12.1 MB/s\u001b[0m eta \u001b[36m0:00:00\u001b[0m\n",
      "\u001b[?25hCollecting mpmath>=0.19\n",
      "  Downloading mpmath-1.3.0-py3-none-any.whl (536 kB)\n",
      "\u001b[2K     \u001b[90m━━━━━━━━━━━━━━━━━━━━━━━━━━━━━━━━━━━━━━\u001b[0m \u001b[32m536.2/536.2 kB\u001b[0m \u001b[31m19.8 MB/s\u001b[0m eta \u001b[36m0:00:00\u001b[0m\n",
      "\u001b[?25hInstalling collected packages: mpmath, flatbuffers, sympy, humanfriendly, coloredlogs, onnxruntime\n",
      "Successfully installed coloredlogs-15.0.1 flatbuffers-23.3.3 humanfriendly-10.0 mpmath-1.3.0 onnxruntime-1.14.1 sympy-1.11.1\n"
     ]
    }
   ],
   "source": [
    "!pip install onnx\n",
    "!pip install onnxruntime"
   ]
  },
  {
   "cell_type": "code",
   "execution_count": 14,
   "metadata": {},
   "outputs": [
    {
     "name": "stderr",
     "output_type": "stream",
     "text": [
      "/Users/jongya/miniforge3/envs/sesac_final/lib/python3.9/site-packages/tqdm/auto.py:21: TqdmWarning: IProgress not found. Please update jupyter and ipywidgets. See https://ipywidgets.readthedocs.io/en/stable/user_install.html\n",
      "  from .autonotebook import tqdm as notebook_tqdm\n",
      "Using cache found in /Users/jongya/.cache/torch/hub/ultralytics_yolov5_master\n",
      "YOLOv5 🚀 2023-3-3 Python-3.9.0 torch-1.13.1 CPU\n",
      "\n",
      "Fusing layers... \n",
      "YOLOv5s summary: 157 layers, 7018216 parameters, 0 gradients, 15.8 GFLOPs\n",
      "Adding AutoShape... \n"
     ]
    }
   ],
   "source": [
    "import torch\n",
    "model = torch.hub.load('ultralytics/yolov5', 'custom', path=path_to_pt_file)"
   ]
  },
  {
   "cell_type": "code",
   "execution_count": 31,
   "metadata": {},
   "outputs": [],
   "source": [
    "import os\n",
    "os.chdir('../')"
   ]
  },
  {
   "cell_type": "code",
   "execution_count": 32,
   "metadata": {},
   "outputs": [
    {
     "name": "stderr",
     "output_type": "stream",
     "text": [
      "\n",
      "                 from  n    params  module                                  arguments                     \n",
      "  0                -1  1      3520  models.common.Conv                      [3, 32, 6, 2, 2]              \n",
      "  1                -1  1     18560  models.common.Conv                      [32, 64, 3, 2]                \n",
      "  2                -1  1     18816  models.common.C3                        [64, 64, 1]                   \n",
      "  3                -1  1     73984  models.common.Conv                      [64, 128, 3, 2]               \n",
      "  4                -1  2    115712  models.common.C3                        [128, 128, 2]                 \n",
      "  5                -1  1    295424  models.common.Conv                      [128, 256, 3, 2]              \n",
      "  6                -1  3    625152  models.common.C3                        [256, 256, 3]                 \n",
      "  7                -1  1   1180672  models.common.Conv                      [256, 512, 3, 2]              \n",
      "  8                -1  1   1182720  models.common.C3                        [512, 512, 1]                 \n",
      "  9                -1  1    656896  models.common.SPPF                      [512, 512, 5]                 \n",
      " 10                -1  1    131584  models.common.Conv                      [512, 256, 1, 1]              \n",
      " 11                -1  1         0  torch.nn.modules.upsampling.Upsample    [None, 2, 'nearest']          \n",
      " 12           [-1, 6]  1         0  models.common.Concat                    [1]                           \n",
      " 13                -1  1    361984  models.common.C3                        [512, 256, 1, False]          \n",
      " 14                -1  1     33024  models.common.Conv                      [256, 128, 1, 1]              \n",
      " 15                -1  1         0  torch.nn.modules.upsampling.Upsample    [None, 2, 'nearest']          \n",
      " 16           [-1, 4]  1         0  models.common.Concat                    [1]                           \n",
      " 17                -1  1     90880  models.common.C3                        [256, 128, 1, False]          \n",
      " 18                -1  1    147712  models.common.Conv                      [128, 128, 3, 2]              \n",
      " 19          [-1, 14]  1         0  models.common.Concat                    [1]                           \n",
      " 20                -1  1    296448  models.common.C3                        [256, 256, 1, False]          \n",
      " 21                -1  1    590336  models.common.Conv                      [256, 256, 3, 2]              \n",
      " 22          [-1, 10]  1         0  models.common.Concat                    [1]                           \n",
      " 23                -1  1   1182720  models.common.C3                        [512, 512, 1, False]          \n",
      " 24      [17, 20, 23]  1    229245  models.yolo.Detect                      [80, [[10, 13, 16, 30, 33, 23], [30, 61, 62, 45, 59, 119], [116, 90, 156, 198, 373, 326]], [128, 256, 512]]\n",
      "YOLOv5s summary: 214 layers, 7235389 parameters, 7235389 gradients, 16.6 GFLOPs\n",
      "\n"
     ]
    },
    {
     "ename": "RuntimeError",
     "evalue": "Error(s) in loading state_dict for DetectionModel:\n\tsize mismatch for model.24.m.0.weight: copying a param with shape torch.Size([24, 128, 1, 1]) from checkpoint, the shape in current model is torch.Size([255, 128, 1, 1]).\n\tsize mismatch for model.24.m.0.bias: copying a param with shape torch.Size([24]) from checkpoint, the shape in current model is torch.Size([255]).\n\tsize mismatch for model.24.m.1.weight: copying a param with shape torch.Size([24, 256, 1, 1]) from checkpoint, the shape in current model is torch.Size([255, 256, 1, 1]).\n\tsize mismatch for model.24.m.1.bias: copying a param with shape torch.Size([24]) from checkpoint, the shape in current model is torch.Size([255]).\n\tsize mismatch for model.24.m.2.weight: copying a param with shape torch.Size([24, 512, 1, 1]) from checkpoint, the shape in current model is torch.Size([255, 512, 1, 1]).\n\tsize mismatch for model.24.m.2.bias: copying a param with shape torch.Size([24]) from checkpoint, the shape in current model is torch.Size([255]).",
     "output_type": "error",
     "traceback": [
      "\u001b[0;31m---------------------------------------------------------------------------\u001b[0m",
      "\u001b[0;31mRuntimeError\u001b[0m                              Traceback (most recent call last)",
      "Cell \u001b[0;32mIn[32], line 10\u001b[0m\n\u001b[1;32m      7\u001b[0m shutil\u001b[39m.\u001b[39mcopy(\u001b[39m'\u001b[39m\u001b[39m./models/yolov5s.yaml\u001b[39m\u001b[39m'\u001b[39m, \u001b[39m'\u001b[39m\u001b[39m./yolov5s.yaml\u001b[39m\u001b[39m'\u001b[39m)\n\u001b[1;32m      9\u001b[0m model \u001b[39m=\u001b[39m Model()\n\u001b[0;32m---> 10\u001b[0m model\u001b[39m.\u001b[39;49mload_state_dict(torch\u001b[39m.\u001b[39;49mload(path_to_pt_file, map_location\u001b[39m=\u001b[39;49mtorch\u001b[39m.\u001b[39;49mdevice(\u001b[39m'\u001b[39;49m\u001b[39mcpu\u001b[39;49m\u001b[39m'\u001b[39;49m))[\u001b[39m'\u001b[39;49m\u001b[39mmodel\u001b[39;49m\u001b[39m'\u001b[39;49m]\u001b[39m.\u001b[39;49mstate_dict())\n\u001b[1;32m     11\u001b[0m model\u001b[39m.\u001b[39mfloat()\n\u001b[1;32m     12\u001b[0m model\u001b[39m.\u001b[39meval()\n",
      "File \u001b[0;32m~/miniforge3/envs/sesac_final/lib/python3.9/site-packages/torch/nn/modules/module.py:1671\u001b[0m, in \u001b[0;36mModule.load_state_dict\u001b[0;34m(self, state_dict, strict)\u001b[0m\n\u001b[1;32m   1666\u001b[0m         error_msgs\u001b[39m.\u001b[39minsert(\n\u001b[1;32m   1667\u001b[0m             \u001b[39m0\u001b[39m, \u001b[39m'\u001b[39m\u001b[39mMissing key(s) in state_dict: \u001b[39m\u001b[39m{}\u001b[39;00m\u001b[39m. \u001b[39m\u001b[39m'\u001b[39m\u001b[39m.\u001b[39mformat(\n\u001b[1;32m   1668\u001b[0m                 \u001b[39m'\u001b[39m\u001b[39m, \u001b[39m\u001b[39m'\u001b[39m\u001b[39m.\u001b[39mjoin(\u001b[39m'\u001b[39m\u001b[39m\"\u001b[39m\u001b[39m{}\u001b[39;00m\u001b[39m\"\u001b[39m\u001b[39m'\u001b[39m\u001b[39m.\u001b[39mformat(k) \u001b[39mfor\u001b[39;00m k \u001b[39min\u001b[39;00m missing_keys)))\n\u001b[1;32m   1670\u001b[0m \u001b[39mif\u001b[39;00m \u001b[39mlen\u001b[39m(error_msgs) \u001b[39m>\u001b[39m \u001b[39m0\u001b[39m:\n\u001b[0;32m-> 1671\u001b[0m     \u001b[39mraise\u001b[39;00m \u001b[39mRuntimeError\u001b[39;00m(\u001b[39m'\u001b[39m\u001b[39mError(s) in loading state_dict for \u001b[39m\u001b[39m{}\u001b[39;00m\u001b[39m:\u001b[39m\u001b[39m\\n\u001b[39;00m\u001b[39m\\t\u001b[39;00m\u001b[39m{}\u001b[39;00m\u001b[39m'\u001b[39m\u001b[39m.\u001b[39mformat(\n\u001b[1;32m   1672\u001b[0m                        \u001b[39mself\u001b[39m\u001b[39m.\u001b[39m\u001b[39m__class__\u001b[39m\u001b[39m.\u001b[39m\u001b[39m__name__\u001b[39m, \u001b[39m\"\u001b[39m\u001b[39m\\n\u001b[39;00m\u001b[39m\\t\u001b[39;00m\u001b[39m\"\u001b[39m\u001b[39m.\u001b[39mjoin(error_msgs)))\n\u001b[1;32m   1673\u001b[0m \u001b[39mreturn\u001b[39;00m _IncompatibleKeys(missing_keys, unexpected_keys)\n",
      "\u001b[0;31mRuntimeError\u001b[0m: Error(s) in loading state_dict for DetectionModel:\n\tsize mismatch for model.24.m.0.weight: copying a param with shape torch.Size([24, 128, 1, 1]) from checkpoint, the shape in current model is torch.Size([255, 128, 1, 1]).\n\tsize mismatch for model.24.m.0.bias: copying a param with shape torch.Size([24]) from checkpoint, the shape in current model is torch.Size([255]).\n\tsize mismatch for model.24.m.1.weight: copying a param with shape torch.Size([24, 256, 1, 1]) from checkpoint, the shape in current model is torch.Size([255, 256, 1, 1]).\n\tsize mismatch for model.24.m.1.bias: copying a param with shape torch.Size([24]) from checkpoint, the shape in current model is torch.Size([255]).\n\tsize mismatch for model.24.m.2.weight: copying a param with shape torch.Size([24, 512, 1, 1]) from checkpoint, the shape in current model is torch.Size([255, 512, 1, 1]).\n\tsize mismatch for model.24.m.2.bias: copying a param with shape torch.Size([24]) from checkpoint, the shape in current model is torch.Size([255])."
     ]
    }
   ],
   "source": [
    "import os\n",
    "import shutil\n",
    "import torch\n",
    "from models.yolo import Model\n",
    "\n",
    "os.chdir(os.getcwd() + '/yolov5')\n",
    "shutil.copy('./models/yolov5s.yaml', './yolov5s.yaml')\n",
    "\n",
    "model = Model()\n",
    "model.load_state_dict(torch.load(path_to_pt_file, map_location=torch.device('cpu'))['model'].state_dict())\n",
    "model.float()\n",
    "model.eval()\n",
    "\n",
    "x = torch.randn(1, 3, 416, 416)\n",
    "torch.onnx.export(model, x, 'yolov5s.onnx', opset_version=12)\n",
    "\n",
    "model.export = True\n",
    "model(torch.zeros(1, 3, 416, 416))  # dry run\n",
    "model.export = False\n",
    "\n",
    "model.model[-1].export = True  # set Detect() layer export=True\n",
    "model.model[-1].export_weights(path_to_weights_file)  # save as '.pt'"
   ]
  }
 ],
 "metadata": {
  "kernelspec": {
   "display_name": "sesac_final",
   "language": "python",
   "name": "python3"
  },
  "language_info": {
   "codemirror_mode": {
    "name": "ipython",
    "version": 3
   },
   "file_extension": ".py",
   "mimetype": "text/x-python",
   "name": "python",
   "nbconvert_exporter": "python",
   "pygments_lexer": "ipython3",
   "version": "3.9.0"
  },
  "orig_nbformat": 4,
  "vscode": {
   "interpreter": {
    "hash": "bb8359be6a560857f8eb0aaecce6bb12c0bb00fea3cf8b6849d87a5096a4a846"
   }
  }
 },
 "nbformat": 4,
 "nbformat_minor": 2
}
