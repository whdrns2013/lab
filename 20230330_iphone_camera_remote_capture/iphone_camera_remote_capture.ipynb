{
 "cells": [
  {
   "cell_type": "code",
   "execution_count": 1,
   "metadata": {},
   "outputs": [
    {
     "name": "stdout",
     "output_type": "stream",
     "text": [
      "ok\n"
     ]
    }
   ],
   "source": [
    "import cv2\n",
    "import numpy as np\n",
    "\n",
    "capture = cv2.VideoCapture(0)\n",
    "\n",
    "width = int(capture.get(cv2.CAP_PROP_FRAME_WIDTH))\n",
    "height = int(capture.get(cv2.CAP_PROP_FRAME_HEIGHT))\n",
    "\n",
    "capture.set(cv2.CAP_PROP_FRAME_WIDTH, width)\n",
    "capture.set(cv2.CAP_PROP_FRAME_HEIGHT, height)\n",
    "fps = capture.get(cv2.CAP_PROP_FPS)\n",
    "\n",
    "basic_path = '/Users/jongya/Desktop/capture/'\n",
    "file_name = 0\n",
    "\n",
    "fourcc = cv2.VideoWriter_fourcc(*'mp4v')\n",
    "out = cv2.VideoWriter(basic_path + 'vid.mp4', fourcc, int(fps), (width, height), True)\n",
    "\n",
    "print('ok')\n",
    "\n",
    "while True:\n",
    "    ret, frame = capture.read()\n",
    "    if ret:\n",
    "        cv2.line(frame, (0, int(height/2)), (width, int(height/2)), (255, 255, 255), 2)\n",
    "        cv2.line(frame, (int(width/2), 0), (int(width/2), height), (255, 255, 255), 2)\n",
    "        cv2.imshow('vid', frame)\n",
    "        out.write(frame)\n",
    "        if cv2.waitKey(int(1000/fps)) == ord('c'):\n",
    "            cv2.imwrite(basic_path + str(file_name) + '.jpg', frame)\n",
    "            file_name += 1\n",
    "        if cv2.waitKey(int(1000/fps)) == ('q'):\n",
    "            break\n",
    "\n",
    "out.release()\n",
    "capture.release()\n",
    "cv2.destroyAllWindows()"
   ]
  },
  {
   "cell_type": "code",
   "execution_count": null,
   "metadata": {},
   "outputs": [],
   "source": []
  }
 ],
 "metadata": {
  "kernelspec": {
   "display_name": "sesac_final",
   "language": "python",
   "name": "python3"
  },
  "language_info": {
   "codemirror_mode": {
    "name": "ipython",
    "version": 3
   },
   "file_extension": ".py",
   "mimetype": "text/x-python",
   "name": "python",
   "nbconvert_exporter": "python",
   "pygments_lexer": "ipython3",
   "version": "3.10.10"
  },
  "orig_nbformat": 4
 },
 "nbformat": 4,
 "nbformat_minor": 2
}
