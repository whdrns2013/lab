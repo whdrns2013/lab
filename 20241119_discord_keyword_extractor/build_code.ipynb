{
 "cells": [
  {
   "cell_type": "code",
   "execution_count": null,
   "metadata": {},
   "outputs": [],
   "source": [
    "# 프로그램 설명  \n",
    "# (1) 블로그 글 작성시 도움을 주는 API 입니다.  \n",
    "# (2) 작성한 글의 키워드를 추출해줍니다.  \n",
    "# (3) 작성한 글의 부제목을 작성해줍니다.  \n",
    "\n",
    "# 기능 정의\n",
    "# (1) API 통신 (Flask)\n",
    "# (2) 키워드 추출 기능, Tf-idf와 같이 이 문서의 특징을 더 잘 뽑아낼 수 있게 해야 함\n",
    "# (3) 글의 부제목을 작성해주는 기능 ..? 이건 어떻게..?\n",
    "# (4) 키워드 추출 요청했던 문서 이력을 누적하기 (추후 Tf-idf 성능 업)\n",
    "\n",
    "# 코드 구조\n",
    "# app.py : API 통신 코드\n",
    "# keyword_extractor.py : 키워드 추출 코드\n",
    "# excerpt.py : 부제목 추출 코드\n",
    "# utils.py : 파일 적재 등 다양한 유틸 코드\n",
    "# log_manager.py : 로깅\n",
    "# .env : 환경변수, 설정값 저장 파일\n",
    "# ======================================\n",
    "# build_code.ipynb : 전체적인 코드 구축 연습장\n",
    "# test_code.ipynb : 단편적인 기능 구축 연습장\n"
   ]
  }
 ],
 "metadata": {
  "kernelspec": {
   "display_name": "keyword_extractor",
   "language": "python",
   "name": "python3"
  },
  "language_info": {
   "name": "python",
   "version": "3.12.0"
  }
 },
 "nbformat": 4,
 "nbformat_minor": 2
}
