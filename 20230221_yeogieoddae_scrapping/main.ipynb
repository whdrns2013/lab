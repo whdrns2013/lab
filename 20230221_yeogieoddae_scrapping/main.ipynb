{
 "cells": [
  {
   "cell_type": "code",
   "execution_count": 4,
   "metadata": {},
   "outputs": [
    {
     "name": "stderr",
     "output_type": "stream",
     "text": [
      "/var/folders/fn/b29w84gs71q01kp51x0ty8h80000gn/T/ipykernel_34285/570383412.py:2: DeprecationWarning: executable_path has been deprecated, please pass in a Service object\n",
      "  wd = webdriver.Chrome('chromedriver108_mac')\n"
     ]
    }
   ],
   "source": [
    "from selenium import webdriver\n",
    "wd = webdriver.Chrome('chromedriver108_mac')"
   ]
  },
  {
   "cell_type": "code",
   "execution_count": 3,
   "metadata": {},
   "outputs": [
    {
     "name": "stdout",
     "output_type": "stream",
     "text": [
      "chromedriver_mac main.ipynb\n"
     ]
    }
   ],
   "source": []
  }
 ],
 "metadata": {
  "kernelspec": {
   "display_name": "jh",
   "language": "python",
   "name": "python3"
  },
  "language_info": {
   "codemirror_mode": {
    "name": "ipython",
    "version": 3
   },
   "file_extension": ".py",
   "mimetype": "text/x-python",
   "name": "python",
   "nbconvert_exporter": "python",
   "pygments_lexer": "ipython3",
   "version": "3.8.16"
  },
  "orig_nbformat": 4,
  "vscode": {
   "interpreter": {
    "hash": "37ab7feddc54c708c58b77a7c96b79453c4115c65d1a7a2130c39d2d288c0a1c"
   }
  }
 },
 "nbformat": 4,
 "nbformat_minor": 2
}
