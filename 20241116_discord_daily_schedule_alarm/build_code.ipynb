{
 "cells": [
  {
   "cell_type": "code",
   "execution_count": 2,
   "metadata": {},
   "outputs": [],
   "source": [
    "import requests\n",
    "import dotenv\n",
    "\n",
    "envs = dotenv.load_dotenv()\n",
    "\n",
    "\n",
    "\n",
    "# class NotionApi:\n",
    "    \n",
    "#     notion_base_url = ''\n",
    "    \n",
    "#     def __init__(self):\n",
    "#         self.\n",
    "\n",
    "url = ''\n",
    "header = ''\n",
    "body = {}"
   ]
  },
  {
   "cell_type": "code",
   "execution_count": null,
   "metadata": {},
   "outputs": [],
   "source": []
  }
 ],
 "metadata": {
  "kernelspec": {
   "display_name": "discord_dev",
   "language": "python",
   "name": "python3"
  },
  "language_info": {
   "codemirror_mode": {
    "name": "ipython",
    "version": 3
   },
   "file_extension": ".py",
   "mimetype": "text/x-python",
   "name": "python",
   "nbconvert_exporter": "python",
   "pygments_lexer": "ipython3",
   "version": "3.12.0"
  }
 },
 "nbformat": 4,
 "nbformat_minor": 2
}
