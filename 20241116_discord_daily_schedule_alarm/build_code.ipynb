{
 "cells": [
  {
   "cell_type": "code",
   "execution_count": 12,
   "metadata": {},
   "outputs": [],
   "source": [
    "import requests\n",
    "import dotenv\n",
    "import os\n",
    "import blueprints\n",
    "import json\n",
    "\n",
    "# Global Settings\n",
    "envs = dotenv.load_dotenv()\n",
    "notion_base_url = os.getenv('NOTION_BASE_URL')\n",
    "notion_api_secret = os.getenv('NOTION_API_SECRET')\n",
    "notion_version = os.getenv('NOTION_VERSION')\n",
    "notion_database_id = str(os.getenv('NOTION_DATABASE_ID'))\n",
    "\n",
    "# Notion API Class\n",
    "class NotionApi:\n",
    "    \n",
    "    def __init__(self, notion_base_url, notion_api_secret, notion_version, notion_database_id):\n",
    "        self.req_url = notion_base_url + notion_database_id + '/query'\n",
    "        self.req_headers = {'Content-Type':'application/json', 'Notion-Version':notion_version, 'Authorization':'Bearer '+notion_api_secret}\n",
    "        self.req_body=dict()\n",
    "    \n",
    "    def set_body(self, target_property_name, date):\n",
    "        self.req_body = blueprints.DateReqBody(target_property_name, date).body\n",
    "    \n",
    "    def post(self):\n",
    "        url = self.req_url\n",
    "        headers = self.req_headers\n",
    "        body = self.req_body\n",
    "        result = requests.post(url=url, headers=headers, data=json.dumps(body))\n",
    "        return result.status_code, json.loads(result.content.decode(encoding='utf-8'))['results']\n",
    "\n"
   ]
  },
  {
   "cell_type": "code",
   "execution_count": 13,
   "metadata": {},
   "outputs": [
    {
     "name": "stdout",
     "output_type": "stream",
     "text": [
      "[]\n",
      "0\n"
     ]
    }
   ],
   "source": [
    "na = NotionApi(notion_base_url, notion_api_secret, notion_version, notion_database_id)\n",
    "na.set_body('날짜', '2024-11-16 00:00:00')\n",
    "sc, result = na.post()\n",
    "\n",
    "print(result)\n",
    "print(len(result))"
   ]
  },
  {
   "cell_type": "code",
   "execution_count": null,
   "metadata": {},
   "outputs": [],
   "source": []
  }
 ],
 "metadata": {
  "kernelspec": {
   "display_name": "discord_dev",
   "language": "python",
   "name": "python3"
  },
  "language_info": {
   "codemirror_mode": {
    "name": "ipython",
    "version": 3
   },
   "file_extension": ".py",
   "mimetype": "text/x-python",
   "name": "python",
   "nbconvert_exporter": "python",
   "pygments_lexer": "ipython3",
   "version": "3.12.0"
  }
 },
 "nbformat": 4,
 "nbformat_minor": 2
}
