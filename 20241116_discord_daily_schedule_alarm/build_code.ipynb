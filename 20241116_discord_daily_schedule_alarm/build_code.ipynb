{
 "cells": [
  {
   "cell_type": "code",
   "execution_count": 6,
   "metadata": {},
   "outputs": [],
   "source": [
    "import requests\n",
    "import dotenv\n",
    "import os\n",
    "import blueprints\n",
    "import json\n",
    "\n",
    "# Global Settings\n",
    "envs = dotenv.load_dotenv()\n",
    "notion_base_url = os.getenv('NOTION_BASE_URL')\n",
    "notion_api_secret = os.getenv('NOTION_API_SECRET')\n",
    "notion_version = os.getenv('NOTION_VERSION')\n",
    "notion_database_id = str(os.getenv('NOTION_DATABASE_ID'))\n",
    "page_title_name = os.getenv('PAGE_TITLE_NAME')\n",
    "page_date_name = os.getenv('PAGE_DATE_NAME')\n",
    "\n",
    "# Notion API Class\n",
    "class NotionApi:\n",
    "    \n",
    "    def __init__(self, notion_base_url, notion_api_secret, notion_version, notion_database_id):\n",
    "        self.req_url = notion_base_url + notion_database_id + '/query'\n",
    "        self.req_headers = {'Content-Type':'application/json', 'Notion-Version':notion_version, 'Authorization':'Bearer '+notion_api_secret}\n",
    "        self.req_body=dict()\n",
    "    \n",
    "    def set_body(self, target_property_name, date):\n",
    "        self.req_body = blueprints.DateReqBody(target_property_name, date).body\n",
    "    \n",
    "    def post(self):\n",
    "        url = self.req_url\n",
    "        headers = self.req_headers\n",
    "        body = self.req_body\n",
    "        result = requests.post(url=url, headers=headers, data=json.dumps(body))\n",
    "        return result.status_code, json.loads(result.content.decode(encoding='utf-8'))['results']\n"
   ]
  },
  {
   "cell_type": "code",
   "execution_count": 7,
   "metadata": {},
   "outputs": [
    {
     "name": "stdout",
     "output_type": "stream",
     "text": [
      "[{'object': 'page', 'id': 'bcdf05e8-6640-4241-a4fb-78d4f1b29673', 'created_time': '2024-11-14T04:40:00.000Z', 'last_edited_time': '2024-11-14T04:40:00.000Z', 'created_by': {'object': 'user', 'id': '1fd72a28-52d8-4b38-8740-d7e2a6a7f232'}, 'last_edited_by': {'object': 'user', 'id': 'e04ad9c6-8611-4e7f-bfde-4a9250ade8c8'}, 'cover': None, 'icon': None, 'parent': {'type': 'database_id', 'database_id': 'c4df85d6-277d-4d2c-8173-15ba75c97937'}, 'archived': False, 'in_trash': False, 'properties': {'2080': {'id': '%40G%3C~', 'type': 'select', 'select': None}, '진행 내용': {'id': '%3C%3Cuc', 'type': 'rich_text', 'rich_text': []}, '실제소요시간': {'id': '%3E_%7CL', 'type': 'rich_text', 'rich_text': []}, '예상소요시간': {'id': 'K%3Feq', 'type': 'rich_text', 'rich_text': []}, '목표': {'id': 'LB%5B~', 'type': 'rich_text', 'rich_text': []}, '기한': {'id': 'NkTM', 'type': 'date', 'date': None}, '상태': {'id': 'Vp%3Ar', 'type': 'select', 'select': None}, '비고/리뷰': {'id': '%5DHgE', 'type': 'rich_text', 'rich_text': []}, '중요도': {'id': '_i%60M', 'type': 'select', 'select': None}, '날짜': {'id': 'aYc%5C', 'type': 'date', 'date': {'start': '2024-11-27T18:30:00.000+09:00', 'end': '2024-11-27T22:00:00.000+09:00', 'time_zone': None}}, '관련 프로젝트': {'id': 'iE%5B%7B', 'type': 'rollup', 'rollup': {'type': 'array', 'array': [], 'function': 'show_original'}}, '긴급도': {'id': 'kyov', 'type': 'select', 'select': None}, '상위 프로젝트': {'id': 'lyr%40', 'type': 'relation', 'relation': [], 'has_more': False}, '평가': {'id': 'py%7Cd', 'type': 'select', 'select': None}, '시간 Over': {'id': 'w%5EHH', 'type': 'formula', 'formula': {'type': 'string', 'string': '예상과 동일'}}, '시작시간': {'id': '%7BEPZ', 'type': 'formula', 'formula': {'type': 'string', 'string': '9:30'}}, '일정': {'id': 'title', 'type': 'title', 'title': [{'type': 'text', 'text': {'content': '새싹 도봉 2기 선배와의 만남 (멀티모달 과정)', 'link': None}, 'annotations': {'bold': False, 'italic': False, 'strikethrough': False, 'underline': False, 'code': False, 'color': 'default'}, 'plain_text': '새싹 도봉 2기 선배와의 만남 (멀티모달 과정)', 'href': None}]}}, 'url': 'https://www.notion.so/2-bcdf05e866404241a4fb78d4f1b29673', 'public_url': None}, {'object': 'page', 'id': 'abf84047-5031-4b43-b3b2-431d38b9ad7f', 'created_time': '2024-11-12T15:40:00.000Z', 'last_edited_time': '2024-11-12T15:40:00.000Z', 'created_by': {'object': 'user', 'id': '1fd72a28-52d8-4b38-8740-d7e2a6a7f232'}, 'last_edited_by': {'object': 'user', 'id': 'e04ad9c6-8611-4e7f-bfde-4a9250ade8c8'}, 'cover': None, 'icon': None, 'parent': {'type': 'database_id', 'database_id': 'c4df85d6-277d-4d2c-8173-15ba75c97937'}, 'archived': False, 'in_trash': False, 'properties': {'2080': {'id': '%40G%3C~', 'type': 'select', 'select': {'id': 'RxJL', 'name': '20', 'color': 'green'}}, '진행 내용': {'id': '%3C%3Cuc', 'type': 'rich_text', 'rich_text': []}, '실제소요시간': {'id': '%3E_%7CL', 'type': 'rich_text', 'rich_text': []}, '예상소요시간': {'id': 'K%3Feq', 'type': 'rich_text', 'rich_text': []}, '목표': {'id': 'LB%5B~', 'type': 'rich_text', 'rich_text': []}, '기한': {'id': 'NkTM', 'type': 'date', 'date': None}, '상태': {'id': 'Vp%3Ar', 'type': 'select', 'select': {'id': '396a8632-80ca-422c-a3bc-676dfd0d9d3d', 'name': '⚪ 착수전', 'color': 'default'}}, '비고/리뷰': {'id': '%5DHgE', 'type': 'rich_text', 'rich_text': []}, '중요도': {'id': '_i%60M', 'type': 'select', 'select': None}, '날짜': {'id': 'aYc%5C', 'type': 'date', 'date': {'start': '2024-12-14', 'end': None, 'time_zone': None}}, '관련 프로젝트': {'id': 'iE%5B%7B', 'type': 'rollup', 'rollup': {'type': 'array', 'array': [], 'function': 'show_original'}}, '긴급도': {'id': 'kyov', 'type': 'select', 'select': None}, '상위 프로젝트': {'id': 'lyr%40', 'type': 'relation', 'relation': [], 'has_more': False}, '평가': {'id': 'py%7Cd', 'type': 'select', 'select': None}, '시간 Over': {'id': 'w%5EHH', 'type': 'formula', 'formula': {'type': 'string', 'string': '예상과 동일'}}, '시작시간': {'id': '%7BEPZ', 'type': 'formula', 'formula': {'type': 'string', 'string': ''}}, '일정': {'id': 'title', 'type': 'title', 'title': [{'type': 'text', 'text': {'content': '리눅스마스터 2급', 'link': None}, 'annotations': {'bold': False, 'italic': False, 'strikethrough': False, 'underline': False, 'code': False, 'color': 'default'}, 'plain_text': '리눅스마스터 2급', 'href': None}]}}, 'url': 'https://www.notion.so/2-abf8404750314b43b3b2431d38b9ad7f', 'public_url': None}, {'object': 'page', 'id': 'bd42a176-ba59-42af-94d4-042d5d0548b2', 'created_time': '2024-11-05T04:31:00.000Z', 'last_edited_time': '2024-11-05T04:32:00.000Z', 'created_by': {'object': 'user', 'id': '1fd72a28-52d8-4b38-8740-d7e2a6a7f232'}, 'last_edited_by': {'object': 'user', 'id': 'e04ad9c6-8611-4e7f-bfde-4a9250ade8c8'}, 'cover': None, 'icon': None, 'parent': {'type': 'database_id', 'database_id': 'c4df85d6-277d-4d2c-8173-15ba75c97937'}, 'archived': False, 'in_trash': False, 'properties': {'2080': {'id': '%40G%3C~', 'type': 'select', 'select': {'id': 'RxJL', 'name': '20', 'color': 'green'}}, '진행 내용': {'id': '%3C%3Cuc', 'type': 'rich_text', 'rich_text': []}, '실제소요시간': {'id': '%3E_%7CL', 'type': 'rich_text', 'rich_text': []}, '예상소요시간': {'id': 'K%3Feq', 'type': 'rich_text', 'rich_text': []}, '목표': {'id': 'LB%5B~', 'type': 'rich_text', 'rich_text': []}, '기한': {'id': 'NkTM', 'type': 'date', 'date': None}, '상태': {'id': 'Vp%3Ar', 'type': 'select', 'select': {'id': '396a8632-80ca-422c-a3bc-676dfd0d9d3d', 'name': '⚪ 착수전', 'color': 'default'}}, '비고/리뷰': {'id': '%5DHgE', 'type': 'rich_text', 'rich_text': []}, '중요도': {'id': '_i%60M', 'type': 'select', 'select': {'id': '2e20ed80-45c4-4136-b2ae-84a7c47f0d96', 'name': '1', 'color': 'green'}}, '날짜': {'id': 'aYc%5C', 'type': 'date', 'date': {'start': '2024-12-08T09:00:00.000+09:00', 'end': '2024-12-08T14:00:00.000+09:00', 'time_zone': None}}, '관련 프로젝트': {'id': 'iE%5B%7B', 'type': 'rollup', 'rollup': {'type': 'array', 'array': [], 'function': 'show_original'}}, '긴급도': {'id': 'kyov', 'type': 'select', 'select': {'id': 'f4cf7b37-8022-4548-9f51-63abd3b0c37d', 'name': '1', 'color': 'green'}}, '상위 프로젝트': {'id': 'lyr%40', 'type': 'relation', 'relation': [], 'has_more': False}, '평가': {'id': 'py%7Cd', 'type': 'select', 'select': None}, '시간 Over': {'id': 'w%5EHH', 'type': 'formula', 'formula': {'type': 'string', 'string': '예상과 동일'}}, '시작시간': {'id': '%7BEPZ', 'type': 'formula', 'formula': {'type': 'string', 'string': ''}}, '일정': {'id': 'title', 'type': 'title', 'title': [{'type': 'text', 'text': {'content': '방송통신대 - 기말시험 ( C++, 선형대수, 자료구조 )', 'link': None}, 'annotations': {'bold': False, 'italic': False, 'strikethrough': False, 'underline': False, 'code': False, 'color': 'default'}, 'plain_text': '방송통신대 - 기말시험 ( C++, 선형대수, 자료구조 )', 'href': None}]}}, 'url': 'https://www.notion.so/C-bd42a176ba5942af94d4042d5d0548b2', 'public_url': None}, {'object': 'page', 'id': '03ec4382-f780-4646-a328-ef9ae6db53e1', 'created_time': '2024-11-05T04:29:00.000Z', 'last_edited_time': '2024-11-05T04:32:00.000Z', 'created_by': {'object': 'user', 'id': '1fd72a28-52d8-4b38-8740-d7e2a6a7f232'}, 'last_edited_by': {'object': 'user', 'id': 'e04ad9c6-8611-4e7f-bfde-4a9250ade8c8'}, 'cover': None, 'icon': None, 'parent': {'type': 'database_id', 'database_id': 'c4df85d6-277d-4d2c-8173-15ba75c97937'}, 'archived': False, 'in_trash': False, 'properties': {'2080': {'id': '%40G%3C~', 'type': 'select', 'select': {'id': 'RxJL', 'name': '20', 'color': 'green'}}, '진행 내용': {'id': '%3C%3Cuc', 'type': 'rich_text', 'rich_text': []}, '실제소요시간': {'id': '%3E_%7CL', 'type': 'rich_text', 'rich_text': []}, '예상소요시간': {'id': 'K%3Feq', 'type': 'rich_text', 'rich_text': []}, '목표': {'id': 'LB%5B~', 'type': 'rich_text', 'rich_text': []}, '기한': {'id': 'NkTM', 'type': 'date', 'date': None}, '상태': {'id': 'Vp%3Ar', 'type': 'select', 'select': {'id': '396a8632-80ca-422c-a3bc-676dfd0d9d3d', 'name': '⚪ 착수전', 'color': 'default'}}, '비고/리뷰': {'id': '%5DHgE', 'type': 'rich_text', 'rich_text': []}, '중요도': {'id': '_i%60M', 'type': 'select', 'select': {'id': '2e20ed80-45c4-4136-b2ae-84a7c47f0d96', 'name': '1', 'color': 'green'}}, '날짜': {'id': 'aYc%5C', 'type': 'date', 'date': {'start': '2024-12-01T09:00:00.000+09:00', 'end': '2024-12-01T14:00:00.000+09:00', 'time_zone': None}}, '관련 프로젝트': {'id': 'iE%5B%7B', 'type': 'rollup', 'rollup': {'type': 'array', 'array': [], 'function': 'show_original'}}, '긴급도': {'id': 'kyov', 'type': 'select', 'select': {'id': 'f4cf7b37-8022-4548-9f51-63abd3b0c37d', 'name': '1', 'color': 'green'}}, '상위 프로젝트': {'id': 'lyr%40', 'type': 'relation', 'relation': [], 'has_more': False}, '평가': {'id': 'py%7Cd', 'type': 'select', 'select': None}, '시간 Over': {'id': 'w%5EHH', 'type': 'formula', 'formula': {'type': 'string', 'string': '예상과 동일'}}, '시작시간': {'id': '%7BEPZ', 'type': 'formula', 'formula': {'type': 'string', 'string': ''}}, '일정': {'id': 'title', 'type': 'title', 'title': [{'type': 'text', 'text': {'content': '방송통신대 - 기말시험 ( UNIX, 머신러닝, 컴퓨터구조 )', 'link': None}, 'annotations': {'bold': False, 'italic': False, 'strikethrough': False, 'underline': False, 'code': False, 'color': 'default'}, 'plain_text': '방송통신대 - 기말시험 ( UNIX, 머신러닝, 컴퓨터구조 )', 'href': None}]}}, 'url': 'https://www.notion.so/UNIX-03ec4382f7804646a328ef9ae6db53e1', 'public_url': None}, {'object': 'page', 'id': '0a5586a4-2413-4dfb-9a6e-d76c05630484', 'created_time': '2024-06-21T01:52:00.000Z', 'last_edited_time': '2024-11-04T06:42:00.000Z', 'created_by': {'object': 'user', 'id': 'e04ad9c6-8611-4e7f-bfde-4a9250ade8c8'}, 'last_edited_by': {'object': 'user', 'id': 'e04ad9c6-8611-4e7f-bfde-4a9250ade8c8'}, 'cover': None, 'icon': None, 'parent': {'type': 'database_id', 'database_id': 'c4df85d6-277d-4d2c-8173-15ba75c97937'}, 'archived': False, 'in_trash': False, 'properties': {'2080': {'id': '%40G%3C~', 'type': 'select', 'select': {'id': 'RxJL', 'name': '20', 'color': 'green'}}, '진행 내용': {'id': '%3C%3Cuc', 'type': 'rich_text', 'rich_text': []}, '실제소요시간': {'id': '%3E_%7CL', 'type': 'rich_text', 'rich_text': []}, '예상소요시간': {'id': 'K%3Feq', 'type': 'rich_text', 'rich_text': [{'type': 'text', 'text': {'content': '0.5', 'link': None}, 'annotations': {'bold': False, 'italic': False, 'strikethrough': False, 'underline': False, 'code': False, 'color': 'default'}, 'plain_text': '0.5', 'href': None}]}, '목표': {'id': 'LB%5B~', 'type': 'rich_text', 'rich_text': []}, '기한': {'id': 'NkTM', 'type': 'date', 'date': None}, '상태': {'id': 'Vp%3Ar', 'type': 'select', 'select': {'id': '396a8632-80ca-422c-a3bc-676dfd0d9d3d', 'name': '⚪ 착수전', 'color': 'default'}}, '비고/리뷰': {'id': '%5DHgE', 'type': 'rich_text', 'rich_text': []}, '중요도': {'id': '_i%60M', 'type': 'select', 'select': None}, '날짜': {'id': 'aYc%5C', 'type': 'date', 'date': {'start': '2024-11-29', 'end': None, 'time_zone': None}}, '관련 프로젝트': {'id': 'iE%5B%7B', 'type': 'rollup', 'rollup': {'type': 'array', 'array': [], 'function': 'show_original'}}, '긴급도': {'id': 'kyov', 'type': 'select', 'select': None}, '상위 프로젝트': {'id': 'lyr%40', 'type': 'relation', 'relation': [], 'has_more': False}, '평가': {'id': 'py%7Cd', 'type': 'select', 'select': None}, '시간 Over': {'id': 'w%5EHH', 'type': 'formula', 'formula': {'type': 'string', 'string': '예상과 동일'}}, '시작시간': {'id': '%7BEPZ', 'type': 'formula', 'formula': {'type': 'string', 'string': ''}}, '일정': {'id': 'title', 'type': 'title', 'title': [{'type': 'text', 'text': {'content': '리눅스 마스터 1급 시험 (2차) 결과 발표', 'link': None}, 'annotations': {'bold': False, 'italic': False, 'strikethrough': False, 'underline': False, 'code': False, 'color': 'default'}, 'plain_text': '리눅스 마스터 1급 시험 (2차) 결과 발표', 'href': None}]}}, 'url': 'https://www.notion.so/1-2-0a5586a424134dfb9a6ed76c05630484', 'public_url': None}]\n"
     ]
    }
   ],
   "source": [
    "na = NotionApi(notion_base_url, notion_api_secret, notion_version, notion_database_id)\n",
    "na.set_body('날짜', '2024-11-16 00:00:00')\n",
    "sc, results = na.post()\n",
    "\n",
    "print(results)"
   ]
  },
  {
   "cell_type": "code",
   "execution_count": null,
   "metadata": {},
   "outputs": [],
   "source": [
    "title_list = []\n",
    "start_date_list = []\n",
    "end_date_list = []\n",
    "\n",
    "for result in results:\n",
    "    title_list.append(result[page_title_name]['plain_text'])\n",
    "    try:\n",
    "        start_date_list.append(result[page_date_name]['date']['start'])\n",
    "    except:\n",
    "        end_date_list.append(result[page_date_name]['date']['end'])"
   ]
  },
  {
   "cell_type": "code",
   "execution_count": 8,
   "metadata": {},
   "outputs": [
    {
     "data": {
      "text/plain": [
       "{'object': 'page',\n",
       " 'id': 'bcdf05e8-6640-4241-a4fb-78d4f1b29673',\n",
       " 'created_time': '2024-11-14T04:40:00.000Z',\n",
       " 'last_edited_time': '2024-11-14T04:40:00.000Z',\n",
       " 'created_by': {'object': 'user',\n",
       "  'id': '1fd72a28-52d8-4b38-8740-d7e2a6a7f232'},\n",
       " 'last_edited_by': {'object': 'user',\n",
       "  'id': 'e04ad9c6-8611-4e7f-bfde-4a9250ade8c8'},\n",
       " 'cover': None,\n",
       " 'icon': None,\n",
       " 'parent': {'type': 'database_id',\n",
       "  'database_id': 'c4df85d6-277d-4d2c-8173-15ba75c97937'},\n",
       " 'archived': False,\n",
       " 'in_trash': False,\n",
       " 'properties': {'2080': {'id': '%40G%3C~', 'type': 'select', 'select': None},\n",
       "  '진행 내용': {'id': '%3C%3Cuc', 'type': 'rich_text', 'rich_text': []},\n",
       "  '실제소요시간': {'id': '%3E_%7CL', 'type': 'rich_text', 'rich_text': []},\n",
       "  '예상소요시간': {'id': 'K%3Feq', 'type': 'rich_text', 'rich_text': []},\n",
       "  '목표': {'id': 'LB%5B~', 'type': 'rich_text', 'rich_text': []},\n",
       "  '기한': {'id': 'NkTM', 'type': 'date', 'date': None},\n",
       "  '상태': {'id': 'Vp%3Ar', 'type': 'select', 'select': None},\n",
       "  '비고/리뷰': {'id': '%5DHgE', 'type': 'rich_text', 'rich_text': []},\n",
       "  '중요도': {'id': '_i%60M', 'type': 'select', 'select': None},\n",
       "  '날짜': {'id': 'aYc%5C',\n",
       "   'type': 'date',\n",
       "   'date': {'start': '2024-11-27T18:30:00.000+09:00',\n",
       "    'end': '2024-11-27T22:00:00.000+09:00',\n",
       "    'time_zone': None}},\n",
       "  '관련 프로젝트': {'id': 'iE%5B%7B',\n",
       "   'type': 'rollup',\n",
       "   'rollup': {'type': 'array', 'array': [], 'function': 'show_original'}},\n",
       "  '긴급도': {'id': 'kyov', 'type': 'select', 'select': None},\n",
       "  '상위 프로젝트': {'id': 'lyr%40',\n",
       "   'type': 'relation',\n",
       "   'relation': [],\n",
       "   'has_more': False},\n",
       "  '평가': {'id': 'py%7Cd', 'type': 'select', 'select': None},\n",
       "  '시간 Over': {'id': 'w%5EHH',\n",
       "   'type': 'formula',\n",
       "   'formula': {'type': 'string', 'string': '예상과 동일'}},\n",
       "  '시작시간': {'id': '%7BEPZ',\n",
       "   'type': 'formula',\n",
       "   'formula': {'type': 'string', 'string': '9:30'}},\n",
       "  '일정': {'id': 'title',\n",
       "   'type': 'title',\n",
       "   'title': [{'type': 'text',\n",
       "     'text': {'content': '새싹 도봉 2기 선배와의 만남 (멀티모달 과정)', 'link': None},\n",
       "     'annotations': {'bold': False,\n",
       "      'italic': False,\n",
       "      'strikethrough': False,\n",
       "      'underline': False,\n",
       "      'code': False,\n",
       "      'color': 'default'},\n",
       "     'plain_text': '새싹 도봉 2기 선배와의 만남 (멀티모달 과정)',\n",
       "     'href': None}]}},\n",
       " 'url': 'https://www.notion.so/2-bcdf05e866404241a4fb78d4f1b29673',\n",
       " 'public_url': None}"
      ]
     },
     "execution_count": 8,
     "metadata": {},
     "output_type": "execute_result"
    }
   ],
   "source": [
    "results[0]"
   ]
  },
  {
   "cell_type": "code",
   "execution_count": null,
   "metadata": {},
   "outputs": [],
   "source": []
  }
 ],
 "metadata": {
  "kernelspec": {
   "display_name": "discord_dev",
   "language": "python",
   "name": "python3"
  },
  "language_info": {
   "codemirror_mode": {
    "name": "ipython",
    "version": 3
   },
   "file_extension": ".py",
   "mimetype": "text/x-python",
   "name": "python",
   "nbconvert_exporter": "python",
   "pygments_lexer": "ipython3",
   "version": "3.12.0"
  }
 },
 "nbformat": 4,
 "nbformat_minor": 2
}
