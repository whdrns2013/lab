{
 "cells": [
  {
   "cell_type": "code",
   "execution_count": 2,
   "metadata": {},
   "outputs": [],
   "source": [
    "import pyautogui\n",
    "import keyboard\n",
    "import time\n",
    "import os"
   ]
  },
  {
   "cell_type": "code",
   "execution_count": 14,
   "metadata": {},
   "outputs": [
    {
     "name": "stdout",
     "output_type": "stream",
     "text": [
      "last capture page : 2 page"
     ]
    },
    {
     "ename": "KeyboardInterrupt",
     "evalue": "",
     "output_type": "error",
     "traceback": [
      "\u001b[0;31m---------------------------------------------------------------------------\u001b[0m",
      "\u001b[0;31mKeyboardInterrupt\u001b[0m                         Traceback (most recent call last)",
      "Cell \u001b[0;32mIn[14], line 31\u001b[0m\n\u001b[1;32m     29\u001b[0m time\u001b[38;5;241m.\u001b[39msleep(\u001b[38;5;241m1\u001b[39m)\n\u001b[1;32m     30\u001b[0m pyautogui\u001b[38;5;241m.\u001b[39mpress(\u001b[38;5;124m'\u001b[39m\u001b[38;5;124menter\u001b[39m\u001b[38;5;124m'\u001b[39m)\n\u001b[0;32m---> 31\u001b[0m \u001b[43mtime\u001b[49m\u001b[38;5;241;43m.\u001b[39;49m\u001b[43msleep\u001b[49m\u001b[43m(\u001b[49m\u001b[38;5;241;43m1\u001b[39;49m\u001b[43m)\u001b[49m\n\u001b[1;32m     32\u001b[0m pyautogui\u001b[38;5;241m.\u001b[39mpress(\u001b[38;5;124m'\u001b[39m\u001b[38;5;124mright\u001b[39m\u001b[38;5;124m'\u001b[39m)\n\u001b[1;32m     33\u001b[0m time\u001b[38;5;241m.\u001b[39msleep(\u001b[38;5;241m0.5\u001b[39m)\n",
      "\u001b[0;31mKeyboardInterrupt\u001b[0m: "
     ]
    }
   ],
   "source": [
    "pyautogui.click(x=1600, y=800)\n",
    "page = 1\n",
    "time.sleep(3)\n",
    "\n",
    "path = '/Users/book'\n",
    "start_count = len(os.listdir(path))\n",
    "offset = 1\n",
    "\n",
    "for i in range(20):\n",
    "    print(f'\\rlast capture page : {page} page', end='')\n",
    "    current_count = len(os.listdir(path))\n",
    "    time.sleep(0.5)\n",
    "    time.sleep(0.5)\n",
    "    pyautogui.hotkey('shift', 'command', '5')\n",
    "    time.sleep(0.5)\n",
    "    time.sleep(0.5)\n",
    "    pyautogui.press('enter')\n",
    "    time.sleep(0.5)\n",
    "    pyautogui.press('enter')\n",
    "    time.sleep(0.5)\n",
    "    pyautogui.press('right')\n",
    "    time.sleep(0.5)\n",
    "    time.sleep(0.5)\n",
    "    page += 1\n",
    "    while len(os.listdir(path)) - current_count != 1:\n",
    "        pyautogui.press('left')\n",
    "        time.sleep(1)\n",
    "        pyautogui.hotkey('shift', 'command', '5')\n",
    "        time.sleep(1)\n",
    "        pyautogui.press('enter')\n",
    "        time.sleep(1)\n",
    "        pyautogui.press('right')\n",
    "        time.sleep(0.5)\n",
    "        pyautogui.moveRel(offset, 0, duration=0.1)\n",
    "        offset = offset * (-1)\n",
    "        time.sleep(0.5)\n",
    "\n",
    "print(f'\\n캡쳐 페이지 수 : {len(os.listdir(path)) - start_count}')"
   ]
  },
  {
   "cell_type": "code",
   "execution_count": null,
   "metadata": {},
   "outputs": [],
   "source": []
  }
 ],
 "metadata": {
  "kernelspec": {
   "display_name": "jh",
   "language": "python",
   "name": "python3"
  },
  "language_info": {
   "codemirror_mode": {
    "name": "ipython",
    "version": 3
   },
   "file_extension": ".py",
   "mimetype": "text/x-python",
   "name": "python",
   "nbconvert_exporter": "python",
   "pygments_lexer": "ipython3",
   "version": "3.10.0"
  }
 },
 "nbformat": 4,
 "nbformat_minor": 2
}
